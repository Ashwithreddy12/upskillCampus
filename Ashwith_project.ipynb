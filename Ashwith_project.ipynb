{
  "cells": [
    {
      "cell_type": "markdown",
      "metadata": {
        "id": "view-in-github",
        "colab_type": "text"
      },
      "source": [
        "<a href=\"https://colab.research.google.com/github/Ashwithreddy12/upskillCampus/blob/main/Copy_of_Welcome_to_Colab.ipynb\" target=\"_parent\"><img src=\"https://colab.research.google.com/assets/colab-badge.svg\" alt=\"Open In Colab\"/></a>"
      ]
    },
    {
      "cell_type": "code",
      "source": [
        "import numpy as np\n",
        "\n",
        "# Change this path to match your file location\n",
        "filename = '/content/drive/MyDrive/test.py/2003.10.22.12.06.24'\n",
        "\n",
        "# Load as numpy array\n",
        "signal = np.loadtxt(filename)\n",
        "\n",
        "print(signal[:10])\n"
      ],
      "metadata": {
        "id": "_SScqHBu1XBI",
        "outputId": "963ff545-0fda-4c5f-8396-fe803d838aad",
        "colab": {
          "base_uri": "https://localhost:8080/"
        }
      },
      "execution_count": null,
      "outputs": [
        {
          "output_type": "stream",
          "name": "stdout",
          "text": [
            "[[-0.022 -0.039 -0.183 -0.054 -0.105 -0.134 -0.129 -0.142]\n",
            " [-0.105 -0.017 -0.164 -0.183 -0.049  0.029 -0.115 -0.122]\n",
            " [-0.183 -0.098 -0.195 -0.125 -0.005 -0.007 -0.171 -0.071]\n",
            " [-0.178 -0.161 -0.159 -0.178 -0.1   -0.115 -0.112 -0.078]\n",
            " [-0.208 -0.129 -0.261 -0.098 -0.151 -0.205 -0.063 -0.066]\n",
            " [-0.232 -0.061 -0.281 -0.125  0.046 -0.088 -0.078 -0.078]\n",
            " [-0.112 -0.132 -0.181 -0.186 -0.132 -0.051 -0.132 -0.076]\n",
            " [-0.054 -0.107 -0.173 -0.134 -0.164  0.002 -0.146 -0.125]\n",
            " [-0.159 -0.032 -0.161 -0.181 -0.11  -0.044 -0.173 -0.137]\n",
            " [-0.225 -0.044 -0.09  -0.159 -0.1   -0.151 -0.139 -0.076]]\n"
          ]
        }
      ]
    },
    {
      "cell_type": "code",
      "source": [
        "import scipy.stats\n",
        "from scipy.fftpack import fft\n",
        "\n",
        "def extract_time_features(signal):\n",
        "    return {\n",
        "        'mean': np.mean(signal),\n",
        "        'std': np.std(signal),\n",
        "        'rms': np.sqrt(np.mean(signal**2)),\n",
        "        'kurtosis': scipy.stats.kurtosis(signal),\n",
        "        'skewness': scipy.stats.skew(signal),\n",
        "        'peak_to_peak': np.ptp(signal)\n",
        "    }\n",
        "\n",
        "def extract_freq_features(signal):\n",
        "    fft_vals = np.abs(fft(signal))\n",
        "    fft_vals = fft_vals[:len(fft_vals)//2]\n",
        "    spectral_entropy = -np.sum((fft_vals/np.sum(fft_vals)) * np.log2(fft_vals/np.sum(fft_vals) + 1e-12))\n",
        "    return {\n",
        "        'fft_mean': np.mean(fft_vals),\n",
        "        'fft_std': np.std(fft_vals),\n",
        "        'spectral_entropy': spectral_entropy\n",
        "    }\n",
        "\n",
        "# Load your file\n",
        "signal = np.loadtxt('/content/drive/MyDrive/test.py/2003.10.22.12.06.24')\n",
        "\n",
        "# Extract features\n",
        "features = extract_time_features(signal)\n",
        "features.update(extract_freq_features(signal))\n",
        "\n",
        "print(features)\n"
      ],
      "metadata": {
        "id": "kCBu40KG2BRB",
        "outputId": "3ebf684a-2a56-475a-d830-5fbf75b2abc8",
        "colab": {
          "base_uri": "https://localhost:8080/"
        }
      },
      "execution_count": null,
      "outputs": [
        {
          "output_type": "stream",
          "name": "stdout",
          "text": [
            "{'mean': np.float64(-0.09286718139648438), 'std': np.float64(0.08008967503344423), 'rms': np.float64(0.12263225280280156), 'kurtosis': array([1.06916276, 3.06588359, 0.20948596, 0.2922212 , 0.40543852,\n",
            "       0.7770628 , 0.79024991, 1.80799019]), 'skewness': array([-0.02999276,  0.22011597, -0.09207326, -0.05318261,  0.03437157,\n",
            "       -0.02222339,  0.04660896,  0.0082948 ]), 'peak_to_peak': np.float64(1.4849999999999999), 'fft_mean': np.float64(0.26689340628823616), 'fft_std': np.float64(0.22640794170386608), 'spectral_entropy': np.float64(15.89296879481312)}\n"
          ]
        }
      ]
    },
    {
      "cell_type": "code",
      "source": [
        "import pandas as pd\n",
        "\n",
        "features['filename'] = '2003.10.22.12.06.24'\n",
        "df = pd.DataFrame([features])\n",
        "print(df)\n"
      ],
      "metadata": {
        "id": "5vHP9GWI2Lo5",
        "outputId": "2ff61466-a3e6-4f2b-ddb4-2d25486393a0",
        "colab": {
          "base_uri": "https://localhost:8080/"
        }
      },
      "execution_count": null,
      "outputs": [
        {
          "output_type": "stream",
          "name": "stdout",
          "text": [
            "       mean      std       rms  \\\n",
            "0 -0.092867  0.08009  0.122632   \n",
            "\n",
            "                                            kurtosis  \\\n",
            "0  [1.0691627552877554, 3.0658835930955135, 0.209...   \n",
            "\n",
            "                                            skewness  peak_to_peak  fft_mean  \\\n",
            "0  [-0.02999276480067818, 0.22011596507984527, -0...         1.485  0.266893   \n",
            "\n",
            "    fft_std  spectral_entropy             filename  \n",
            "0  0.226408         15.892969  2003.10.22.12.06.24  \n"
          ]
        }
      ]
    },
    {
      "cell_type": "code",
      "source": [
        "import os\n",
        "\n",
        "def build_feature_dataframe(data_folder):\n",
        "    features_list = []\n",
        "    for fname in os.listdir(data_folder):\n",
        "        path = os.path.join(data_folder, fname)\n",
        "        if os.path.isfile(path):\n",
        "            try:\n",
        "                signal = np.loadtxt(path)\n",
        "                features = extract_time_features(signal)\n",
        "                features.update(extract_freq_features(signal))\n",
        "                features['filename'] = fname\n",
        "                features_list.append(features)\n",
        "            except Exception as e:\n",
        "                print(f\"Error reading {fname}: {e}\")\n",
        "    return pd.DataFrame(features_list)\n",
        "\n",
        "# Example usage\n",
        "df_all = build_feature_dataframe('/content/drive/MyDrive/test.py')\n",
        "print(df_all.head())\n"
      ],
      "metadata": {
        "id": "S6Uqf64U2QSH",
        "outputId": "b4c80137-5cb8-4553-9a3a-8fb9f2d26bb4",
        "colab": {
          "base_uri": "https://localhost:8080/"
        }
      },
      "execution_count": null,
      "outputs": [
        {
          "output_type": "stream",
          "name": "stdout",
          "text": [
            "       mean      std       rms  \\\n",
            "0 -0.092867  0.08009  0.122632   \n",
            "\n",
            "                                            kurtosis  \\\n",
            "0  [1.0691627552877554, 3.0658835930955135, 0.209...   \n",
            "\n",
            "                                            skewness  peak_to_peak  fft_mean  \\\n",
            "0  [-0.02999276480067818, 0.22011596507984527, -0...         1.485  0.266893   \n",
            "\n",
            "    fft_std  spectral_entropy             filename  \n",
            "0  0.226408         15.892969  2003.10.22.12.06.24  \n"
          ]
        }
      ]
    },
    {
      "cell_type": "code",
      "source": [
        "import numpy as np\n",
        "import pandas as pd\n",
        "import scipy.stats\n",
        "from scipy.fftpack import fft\n",
        "\n",
        "# Load your single file\n",
        "signal = np.loadtxt('/content/drive/MyDrive/test.py/2003.10.22.12.06.24')\n",
        "\n",
        "# Extract features\n",
        "features = {\n",
        "    'mean': np.mean(signal),\n",
        "    'std': np.std(signal),\n",
        "    'rms': np.sqrt(np.mean(signal**2)),\n",
        "    'kurtosis': scipy.stats.kurtosis(signal),\n",
        "    'skewness': scipy.stats.skew(signal),\n",
        "    'peak_to_peak': np.ptp(signal)\n",
        "}\n",
        "\n",
        "fft_vals = np.abs(fft(signal))\n",
        "fft_vals = fft_vals[:len(fft_vals)//2]\n",
        "spectral_entropy = -np.sum((fft_vals/np.sum(fft_vals)) * np.log2(fft_vals/np.sum(fft_vals) + 1e-12))\n",
        "features['fft_mean'] = np.mean(fft_vals)\n",
        "features['fft_std'] = np.std(fft_vals)\n",
        "features['spectral_entropy'] = spectral_entropy\n",
        "\n",
        "# Add filename\n",
        "features['filename'] = '2003.10.22.12.06.24'\n",
        "\n",
        "# Make DataFrame\n",
        "df = pd.DataFrame([features])\n",
        "print(df)\n"
      ],
      "metadata": {
        "id": "GOhtE19w2e-E",
        "outputId": "2bb57500-a944-4bc6-949f-ce019f6877e7",
        "colab": {
          "base_uri": "https://localhost:8080/"
        }
      },
      "execution_count": null,
      "outputs": [
        {
          "output_type": "stream",
          "name": "stdout",
          "text": [
            "       mean      std       rms  \\\n",
            "0 -0.092867  0.08009  0.122632   \n",
            "\n",
            "                                            kurtosis  \\\n",
            "0  [1.0691627552877554, 3.0658835930955135, 0.209...   \n",
            "\n",
            "                                            skewness  peak_to_peak  fft_mean  \\\n",
            "0  [-0.02999276480067818, 0.22011596507984527, -0...         1.485  0.266893   \n",
            "\n",
            "    fft_std  spectral_entropy             filename  \n",
            "0  0.226408         15.892969  2003.10.22.12.06.24  \n"
          ]
        }
      ]
    }
  ],
  "metadata": {
    "colab": {
      "provenance": [],
      "include_colab_link": true
    },
    "kernelspec": {
      "display_name": "Python 3",
      "name": "python3"
    }
  },
  "nbformat": 4,
  "nbformat_minor": 0
}
